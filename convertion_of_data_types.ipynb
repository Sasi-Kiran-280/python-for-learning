{
  "cells": [
    {
      "cell_type": "markdown",
      "metadata": {
        "id": "view-in-github",
        "colab_type": "text"
      },
      "source": [
        "<a href=\"https://colab.research.google.com/github/Sasi-Kiran-280/python-for-learning/blob/module-1/convertion_of_data_types.ipynb\" target=\"_parent\"><img src=\"https://colab.research.google.com/assets/colab-badge.svg\" alt=\"Open In Colab\"/></a>"
      ]
    },
    {
      "cell_type": "markdown",
      "id": "990011e9",
      "metadata": {
        "id": "990011e9"
      },
      "source": [
        "# converting int into string, boolean,float,complex"
      ]
    },
    {
      "cell_type": "code",
      "execution_count": null,
      "id": "c5fac94c",
      "metadata": {
        "id": "c5fac94c",
        "outputId": "31b9d5e6-d71d-434c-c361-20aae4c33bd8"
      },
      "outputs": [
        {
          "name": "stdout",
          "output_type": "stream",
          "text": [
            "10\n",
            "<class 'int'>\n",
            "10\n",
            "<class 'str'>\n",
            "10.0\n",
            "<class 'float'>\n",
            "True\n",
            "<class 'bool'>\n",
            "(10+0j)\n",
            "<class 'complex'>\n"
          ]
        }
      ],
      "source": [
        "a=10\n",
        "print(a)\n",
        "print(type(a))\n",
        "#before convertion\n",
        "b=str(a)\n",
        "print(b)\n",
        "print(type(b))\n",
        "#after convertion\n",
        "c=float(a)\n",
        "print(c)\n",
        "print(type(c))\n",
        "d=bool(a)\n",
        "print(d)\n",
        "print(type(d))\n",
        "e=complex(a)\n",
        "print(e)\n",
        "print(type(e))"
      ]
    },
    {
      "cell_type": "markdown",
      "id": "dc8b27de",
      "metadata": {
        "id": "dc8b27de"
      },
      "source": [
        "# converting string into int, boolean,float,complex"
      ]
    },
    {
      "cell_type": "code",
      "execution_count": null,
      "id": "96c1cb3c",
      "metadata": {
        "id": "96c1cb3c"
      },
      "outputs": [],
      "source": [
        "a='10'\n",
        "print(type(a))\n",
        "print(a)\n",
        "b=int(a)\n",
        "print(type(b))\n",
        "print(b)\n",
        "c='ten'\n",
        "print(type(c))\n",
        "print(c)\n",
        "#d=int(c)\n",
        "#print(d)\n",
        "#can't convert alphabets into integers, only digits\n",
        "#instead of alpabets give digits 0-9\n",
        "e=float(a)\n",
        "print(type(e))\n",
        "print(e)\n",
        "f=bool(a)\n",
        "print(type(f))\n",
        "print(f)"
      ]
    },
    {
      "cell_type": "markdown",
      "id": "208db3a5",
      "metadata": {
        "id": "208db3a5"
      },
      "source": [
        "# converting complex into int, string,float,boolean"
      ]
    },
    {
      "cell_type": "code",
      "execution_count": null,
      "id": "7490060b",
      "metadata": {
        "id": "7490060b",
        "outputId": "f641cc87-295c-4ecf-9893-56cfa35afa2e"
      },
      "outputs": [
        {
          "name": "stdout",
          "output_type": "stream",
          "text": [
            "<class 'complex'>\n",
            "(10+3j)\n"
          ]
        },
        {
          "ename": "TypeError",
          "evalue": "can't convert complex to int",
          "output_type": "error",
          "traceback": [
            "\u001b[1;31m---------------------------------------------------------------------------\u001b[0m",
            "\u001b[1;31mTypeError\u001b[0m                                 Traceback (most recent call last)",
            "\u001b[1;32m~\\AppData\\Local\\Temp/ipykernel_700/539147122.py\u001b[0m in \u001b[0;36m<module>\u001b[1;34m\u001b[0m\n\u001b[0;32m      2\u001b[0m \u001b[0mprint\u001b[0m\u001b[1;33m(\u001b[0m\u001b[0mtype\u001b[0m\u001b[1;33m(\u001b[0m\u001b[0ma\u001b[0m\u001b[1;33m)\u001b[0m\u001b[1;33m)\u001b[0m\u001b[1;33m\u001b[0m\u001b[1;33m\u001b[0m\u001b[0m\n\u001b[0;32m      3\u001b[0m \u001b[0mprint\u001b[0m\u001b[1;33m(\u001b[0m\u001b[0ma\u001b[0m\u001b[1;33m)\u001b[0m\u001b[1;33m\u001b[0m\u001b[1;33m\u001b[0m\u001b[0m\n\u001b[1;32m----> 4\u001b[1;33m \u001b[0mb\u001b[0m\u001b[1;33m=\u001b[0m\u001b[0mint\u001b[0m\u001b[1;33m(\u001b[0m\u001b[0ma\u001b[0m\u001b[1;33m)\u001b[0m\u001b[1;33m\u001b[0m\u001b[1;33m\u001b[0m\u001b[0m\n\u001b[0m\u001b[0;32m      5\u001b[0m \u001b[0mprint\u001b[0m\u001b[1;33m(\u001b[0m\u001b[0mtype\u001b[0m\u001b[1;33m(\u001b[0m\u001b[0mb\u001b[0m\u001b[1;33m)\u001b[0m\u001b[1;33m)\u001b[0m\u001b[1;33m\u001b[0m\u001b[1;33m\u001b[0m\u001b[0m\n\u001b[0;32m      6\u001b[0m \u001b[0mprint\u001b[0m\u001b[1;33m(\u001b[0m\u001b[0mb\u001b[0m\u001b[1;33m)\u001b[0m\u001b[1;33m\u001b[0m\u001b[1;33m\u001b[0m\u001b[0m\n",
            "\u001b[1;31mTypeError\u001b[0m: can't convert complex to int"
          ]
        }
      ],
      "source": [
        "a=10+3j\n",
        "print(type(a))\n",
        "print(a)\n",
        "#b=int(a)\n",
        "#print(type(b))\n",
        "#print(b)\n",
        "#converting complex can only be done to boolean\n"
      ]
    },
    {
      "cell_type": "code",
      "execution_count": null,
      "id": "9a5f0065",
      "metadata": {
        "id": "9a5f0065"
      },
      "outputs": [],
      "source": [
        ""
      ]
    }
  ],
  "metadata": {
    "kernelspec": {
      "display_name": "Python 3 (ipykernel)",
      "language": "python",
      "name": "python3"
    },
    "language_info": {
      "codemirror_mode": {
        "name": "ipython",
        "version": 3
      },
      "file_extension": ".py",
      "mimetype": "text/x-python",
      "name": "python",
      "nbconvert_exporter": "python",
      "pygments_lexer": "ipython3",
      "version": "3.9.7"
    },
    "colab": {
      "name": "convertion of data types.ipynb",
      "provenance": [],
      "collapsed_sections": [],
      "include_colab_link": true
    }
  },
  "nbformat": 4,
  "nbformat_minor": 5
}