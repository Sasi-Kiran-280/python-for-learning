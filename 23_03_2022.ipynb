{
  "nbformat": 4,
  "nbformat_minor": 0,
  "metadata": {
    "colab": {
      "name": "23/03/2022.ipynb",
      "provenance": [],
      "authorship_tag": "ABX9TyNsiKLfXe1Np2kSp+FvPjeW",
      "include_colab_link": true
    },
    "kernelspec": {
      "name": "python3",
      "display_name": "Python 3"
    },
    "language_info": {
      "name": "python"
    }
  },
  "cells": [
    {
      "cell_type": "markdown",
      "metadata": {
        "id": "view-in-github",
        "colab_type": "text"
      },
      "source": [
        "<a href=\"https://colab.research.google.com/github/Sasi-Kiran-280/python-for-learning/blob/module-1/23_03_2022.ipynb\" target=\"_parent\"><img src=\"https://colab.research.google.com/assets/colab-badge.svg\" alt=\"Open In Colab\"/></a>"
      ]
    },
    {
      "cell_type": "code",
      "execution_count": 5,
      "metadata": {
        "colab": {
          "base_uri": "https://localhost:8080/"
        },
        "id": "8S3DMnP358lZ",
        "outputId": "acea163a-5b62-490f-d7a9-2b83cff80d03"
      },
      "outputs": [
        {
          "output_type": "stream",
          "name": "stdout",
          "text": [
            "['pappaya', 'strawberry']\n",
            "strawberry\n",
            "strawberry\n"
          ]
        }
      ],
      "source": [
        "##\n",
        "fruit=['mango','apple','orange','pappaya','strawberry']\n",
        "\n",
        "print(fruit[3:])\n",
        "print(fruit[4])\n",
        "print(fruit[-1])"
      ]
    },
    {
      "cell_type": "code",
      "source": [
        "#\n",
        "a=[20,30,70,45,54]\n",
        "print(a)\n",
        "print(a[2])\n",
        "print(a[-1:-4])\n",
        "##adding some elements........\n",
        "a.extend([20,30,60])\n",
        "print(a)\n",
        "##replacing some elements........\n",
        "a[1:4]=(1,2,3)\n",
        "print(a)\n",
        "##inserting..............\n",
        "a.insert(2,999)\n",
        "print(a)\n",
        "print(a[0])\n",
        "##removing............\n",
        "a.remove(a[3])\n",
        "print(a)\n",
        "##reversing................\n",
        "a.reverse()\n",
        "print(a)\n",
        "##pop\n",
        "a.pop()\n",
        "print(a)"
      ],
      "metadata": {
        "colab": {
          "base_uri": "https://localhost:8080/"
        },
        "id": "_ou1ljFq73Hf",
        "outputId": "db91ec8a-4253-4b81-da4b-548b87ee6802"
      },
      "execution_count": 53,
      "outputs": [
        {
          "output_type": "stream",
          "name": "stdout",
          "text": [
            "[20, 30, 70, 45, 54]\n",
            "70\n",
            "[]\n",
            "[20, 30, 70, 45, 54, 20, 30, 60]\n",
            "[20, 1, 2, 3, 54, 20, 30, 60]\n",
            "[20, 1, 999, 2, 3, 54, 20, 30, 60]\n",
            "20\n",
            "[20, 1, 999, 3, 54, 20, 30, 60]\n",
            "[60, 30, 20, 54, 3, 999, 1, 20]\n",
            "[60, 30, 20, 54, 3, 999, 1]\n"
          ]
        }
      ]
    },
    {
      "cell_type": "code",
      "source": [
        "3\n",
        "3for i in range(1, 5):\n",
        "  n=int(input(i))\n",
        "  print(n)"
      ],
      "metadata": {
        "colab": {
          "base_uri": "https://localhost:8080/",
          "height": 287
        },
        "id": "ecWKUHZpCrd7",
        "outputId": "79047588-1655-4303-ccae-af8336f092e3"
      },
      "execution_count": 51,
      "outputs": [
        {
          "name": "stdout",
          "output_type": "stream",
          "text": [
            "13\n",
            "3\n",
            "23\n",
            "3\n",
            "3\n"
          ]
        },
        {
          "output_type": "error",
          "ename": "ValueError",
          "evalue": "ignored",
          "traceback": [
            "\u001b[0;31m---------------------------------------------------------------------------\u001b[0m",
            "\u001b[0;31mValueError\u001b[0m                                Traceback (most recent call last)",
            "\u001b[0;32m<ipython-input-51-4b0ae0b140b0>\u001b[0m in \u001b[0;36m<module>\u001b[0;34m()\u001b[0m\n\u001b[1;32m      1\u001b[0m \u001b[0;32mfor\u001b[0m \u001b[0mi\u001b[0m \u001b[0;32min\u001b[0m \u001b[0mrange\u001b[0m\u001b[0;34m(\u001b[0m\u001b[0;36m1\u001b[0m\u001b[0;34m,\u001b[0m \u001b[0;36m5\u001b[0m\u001b[0;34m)\u001b[0m\u001b[0;34m:\u001b[0m\u001b[0;34m\u001b[0m\u001b[0;34m\u001b[0m\u001b[0m\n\u001b[0;32m----> 2\u001b[0;31m   \u001b[0mn\u001b[0m\u001b[0;34m=\u001b[0m\u001b[0mint\u001b[0m\u001b[0;34m(\u001b[0m\u001b[0minput\u001b[0m\u001b[0;34m(\u001b[0m\u001b[0mi\u001b[0m\u001b[0;34m)\u001b[0m\u001b[0;34m)\u001b[0m\u001b[0;34m\u001b[0m\u001b[0;34m\u001b[0m\u001b[0m\n\u001b[0m\u001b[1;32m      3\u001b[0m   \u001b[0mprint\u001b[0m\u001b[0;34m(\u001b[0m\u001b[0mn\u001b[0m\u001b[0;34m)\u001b[0m\u001b[0;34m\u001b[0m\u001b[0;34m\u001b[0m\u001b[0m\n",
            "\u001b[0;31mValueError\u001b[0m: invalid literal for int() with base 10: ''"
          ]
        }
      ]
    },
    {
      "cell_type": "code",
      "source": [
        "a=[1,2,3,4,5,6,7,8,9]\n",
        "for i in range(a[0],a[8],a[i]) :\n",
        " print(a[i])"
      ],
      "metadata": {
        "colab": {
          "base_uri": "https://localhost:8080/"
        },
        "id": "lUgYm2ikGyzG",
        "outputId": "d0e0b879-16be-4316-adf6-7e8639920319"
      },
      "execution_count": 43,
      "outputs": [
        {
          "output_type": "stream",
          "name": "stdout",
          "text": [
            "2\n"
          ]
        }
      ]
    }
  ]
}