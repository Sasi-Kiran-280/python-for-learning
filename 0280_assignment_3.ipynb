{
  "nbformat": 4,
  "nbformat_minor": 0,
  "metadata": {
    "colab": {
      "name": "0280 assignment 3.ipynb",
      "provenance": [],
      "collapsed_sections": [],
      "authorship_tag": "ABX9TyM3TMQqk73cyfEY55xpCq2m",
      "include_colab_link": true
    },
    "kernelspec": {
      "name": "python3",
      "display_name": "Python 3"
    },
    "language_info": {
      "name": "python"
    }
  },
  "cells": [
    {
      "cell_type": "markdown",
      "metadata": {
        "id": "view-in-github",
        "colab_type": "text"
      },
      "source": [
        "<a href=\"https://colab.research.google.com/github/Sasi-Kiran-280/python-for-learning/blob/main/0280_assignment_3.ipynb\" target=\"_parent\"><img src=\"https://colab.research.google.com/assets/colab-badge.svg\" alt=\"Open In Colab\"/></a>"
      ]
    },
    {
      "cell_type": "markdown",
      "source": [
        "ascending order in list"
      ],
      "metadata": {
        "id": "lNxL1wrCR8fe"
      }
    },
    {
      "cell_type": "code",
      "execution_count": null,
      "metadata": {
        "colab": {
          "base_uri": "https://localhost:8080/"
        },
        "id": "-2F01jaCKQZ2",
        "outputId": "e7acdc6b-8b9e-4bf7-b515-e69ad91abfbc"
      },
      "outputs": [
        {
          "output_type": "execute_result",
          "data": {
            "text/plain": [
              "[(1, 2), (3, 4, 6, 723), (134, 234, 34)]"
            ]
          },
          "metadata": {},
          "execution_count": 16
        }
      ],
      "source": [
        "list=[(3,4,6,723),(1,2),(134,234,34)]\n",
        "list.sort()\n",
        "list"
      ]
    },
    {
      "cell_type": "markdown",
      "source": [
        "power"
      ],
      "metadata": {
        "id": "oyP3yYlhSHr_"
      }
    },
    {
      "cell_type": "code",
      "source": [
        "a=int(input())\n",
        "b=int(input())\n",
        "c=pow(a,b)\n",
        "print(c)"
      ],
      "metadata": {
        "colab": {
          "base_uri": "https://localhost:8080/"
        },
        "id": "1zSuUA9-LDCV",
        "outputId": "b0c9e761-b407-4863-ca5a-f09bc907c713"
      },
      "execution_count": null,
      "outputs": [
        {
          "output_type": "stream",
          "name": "stdout",
          "text": [
            "2\n",
            "5\n",
            "32\n"
          ]
        }
      ]
    },
    {
      "cell_type": "markdown",
      "source": [
        "repeatition of letters in a string"
      ],
      "metadata": {
        "id": "U_4MKg2hSMJb"
      }
    },
    {
      "cell_type": "code",
      "source": [
        "a=str(input())\n",
        "b=a[::-1]\n",
        "c=int(len(a)/2)\n",
        "co=0\n",
        "for i in range(0,c):\n",
        "  if a[i]==b[i]:\n",
        "    co=co+1\n",
        "print(co)"
      ],
      "metadata": {
        "colab": {
          "base_uri": "https://localhost:8080/"
        },
        "id": "iR6cgvkiNF_M",
        "outputId": "b63c2027-e078-4378-e1ea-5821157ff749"
      },
      "execution_count": null,
      "outputs": [
        {
          "output_type": "stream",
          "name": "stdout",
          "text": [
            "abcdtgjfxmdcba\n",
            "4\n"
          ]
        }
      ]
    },
    {
      "cell_type": "markdown",
      "source": [
        "PALINDROME"
      ],
      "metadata": {
        "id": "cMTAdXOKSXZF"
      }
    },
    {
      "cell_type": "code",
      "source": [
        "a=input()\n",
        "b=a[::-1]\n",
        "if a==b:\n",
        "  print(\"pal\")"
      ],
      "metadata": {
        "colab": {
          "base_uri": "https://localhost:8080/"
        },
        "id": "F0u_yT9APFBs",
        "outputId": "e61052dc-f7c9-452f-ea9d-c19cb172683f"
      },
      "execution_count": null,
      "outputs": [
        {
          "output_type": "stream",
          "name": "stdout",
          "text": [
            "mom\n",
            "pal\n"
          ]
        }
      ]
    },
    {
      "cell_type": "markdown",
      "source": [
        "NO OF CONSONANTS AND VOWELS IN A STRING"
      ],
      "metadata": {
        "id": "9THzyOF0TG63"
      }
    },
    {
      "cell_type": "code",
      "source": [
        "a=input()\n",
        "e=0\n",
        "q=0\n",
        "c=0\n",
        "for i in a:\n",
        "  if i=='a' or i=='e' or i=='i' or i=='o' or i=='u':\n",
        "    e+=1\n",
        "  elif i=='1' or i=='2' or i=='3' or i=='4' or i=='5' or i=='6' or i=='7' or i=='8' or i=='9' or i=='0':\n",
        "    q+=1\n",
        "  else:\n",
        "    c+=1\n",
        "print(e,c,q)"
      ],
      "metadata": {
        "colab": {
          "base_uri": "https://localhost:8080/"
        },
        "id": "1_XaQ-1ZS6uV",
        "outputId": "e14435bb-37d6-495d-89c7-3a6a213cf87d"
      },
      "execution_count": null,
      "outputs": [
        {
          "output_type": "stream",
          "name": "stdout",
          "text": [
            "hdfugybtcriycwy8o276325764t3yiegthui\n",
            "7 18 11\n"
          ]
        }
      ]
    },
    {
      "cell_type": "markdown",
      "source": [
        "To print prime no in given range\n"
      ],
      "metadata": {
        "id": "opqjglZ1TqDo"
      }
    },
    {
      "cell_type": "code",
      "source": [
        "def prime(a,b):\n",
        "  for i in range(a,b):\n",
        "    k=0\n",
        "    for j in range(1,i):\n",
        "      if i%j==0:\n",
        "        k+=1\n",
        "    if k==1:\n",
        "      print(i)\n",
        "prime(int(input()),int(input()))\n"
      ],
      "metadata": {
        "id": "l71_NGCtS2Z7",
        "colab": {
          "base_uri": "https://localhost:8080/"
        },
        "outputId": "86d7853d-2d5b-4b00-e234-c9f9d4126714"
      },
      "execution_count": 1,
      "outputs": [
        {
          "output_type": "stream",
          "name": "stdout",
          "text": [
            "1\n",
            "10\n",
            "2\n",
            "3\n",
            "5\n",
            "7\n"
          ]
        }
      ]
    },
    {
      "cell_type": "markdown",
      "source": [
        "**TO PRINT no of days in a month**"
      ],
      "metadata": {
        "id": "TE-yBEIJTv_2"
      }
    },
    {
      "cell_type": "code",
      "source": [
        "mon=int(input())\n",
        "if mon==1 or mon==3 or mon==5 or mon==7 or mon==8 or mon==10 or mon==12:\n",
        "  print(\"31\")\n",
        "elif mon==4 or mon==6 or mon==9 or mon==11 :\n",
        "  print(\"30\")\n",
        "elif mon==2:\n",
        "  print(\"28\")\n",
        "else:\n",
        "  print(\"not found\")"
      ],
      "metadata": {
        "colab": {
          "base_uri": "https://localhost:8080/"
        },
        "id": "1wt6BS8vVNv5",
        "outputId": "a533ac31-4d1e-40a9-fbe7-40f2f0eef36a"
      },
      "execution_count": 1,
      "outputs": [
        {
          "output_type": "stream",
          "name": "stdout",
          "text": [
            "10\n",
            "31\n"
          ]
        }
      ]
    },
    {
      "cell_type": "markdown",
      "source": [
        "***4.To print even length***"
      ],
      "metadata": {
        "id": "WmJYCvwyWdIL"
      }
    },
    {
      "cell_type": "code",
      "source": [
        "word=str(input())\n",
        "word=word.split(' ')\n",
        "for a in word:\n",
        "  if len(a)%2==0:\n",
        "    print(a)"
      ],
      "metadata": {
        "colab": {
          "base_uri": "https://localhost:8080/"
        },
        "id": "SLFXsEKqWhd7",
        "outputId": "5eb7a0be-2719-4fbb-b707-34ec7c5e9e42"
      },
      "execution_count": 2,
      "outputs": [
        {
          "output_type": "stream",
          "name": "stdout",
          "text": [
            "HELLO SDFGHJKG HGHG\n",
            "SDFGHJKG\n",
            "HGHG\n"
          ]
        }
      ]
    },
    {
      "cell_type": "markdown",
      "source": [
        "**To convert multiple integers to single integers**"
      ],
      "metadata": {
        "id": "eNTyxfG2Wo-M"
      }
    },
    {
      "cell_type": "code",
      "source": [
        "a=[10,13,15,17]\n",
        "for i in a:\n",
        "  print(i,end=\"\")"
      ],
      "metadata": {
        "colab": {
          "base_uri": "https://localhost:8080/"
        },
        "id": "CEFPEyDoXDi6",
        "outputId": "c33d610e-247b-4a97-dd2e-5af0ee36fe13"
      },
      "execution_count": 3,
      "outputs": [
        {
          "output_type": "stream",
          "name": "stdout",
          "text": [
            "10131517"
          ]
        }
      ]
    },
    {
      "cell_type": "markdown",
      "source": [
        "**take 5 subjects marks from user and display the grade of the student if average is 90-100\"o\",80-89\"a+\",.......<40-\"f\".**"
      ],
      "metadata": {
        "id": "MXBwrjOjXI8f"
      }
    },
    {
      "cell_type": "code",
      "source": [
        "eng=int(input())\n",
        "phy=int(input())\n",
        "evpr=int(input())\n",
        "chem=int(input())\n",
        "math=int(input())\n",
        "tot=(eng+phy+evpr+chem+math)/5\n",
        "print(tot)\n",
        "if tot > 90:\n",
        "  print(\"O\")\n",
        "elif tot > 80 :\n",
        "  print(\"A+\")\n",
        "elif tot > 70 :\n",
        "  print(\"A\")\n",
        "elif tot > 60 :\n",
        "  print(\"B\")    \n",
        "elif tot > 50 :\n",
        "  print(\"C\")\n",
        "elif tot > 40 :\n",
        "  print(\"D\")\n",
        "elif tot <40 :\n",
        "  print(\"fail\")"
      ],
      "metadata": {
        "colab": {
          "base_uri": "https://localhost:8080/"
        },
        "id": "3BfoMEn9ZdUX",
        "outputId": "72dc589d-5f06-45f1-a006-897eef315dc7"
      },
      "execution_count": 6,
      "outputs": [
        {
          "output_type": "stream",
          "name": "stdout",
          "text": [
            "100\n",
            "100\n",
            "100\n",
            "50\n",
            "1\n",
            "70.2\n",
            "A\n"
          ]
        }
      ]
    },
    {
      "cell_type": "markdown",
      "source": [
        "**wap that prints 1 if all the 3 given numbers are in acending order otherwise print 0.**"
      ],
      "metadata": {
        "id": "x2gvG0VlaYPO"
      }
    },
    {
      "cell_type": "code",
      "source": [
        "a=int(input())\n",
        "b=int(input())\n",
        "c=int(input())\n",
        "if a<b:\n",
        "  if b<c:\n",
        "    print(\"1\")\n",
        "else:\n",
        "  print(\"0\")"
      ],
      "metadata": {
        "colab": {
          "base_uri": "https://localhost:8080/"
        },
        "id": "fJe40p8oaimG",
        "outputId": "2692c433-8fb6-4767-973e-c95429c16439"
      },
      "execution_count": 9,
      "outputs": [
        {
          "output_type": "stream",
          "name": "stdout",
          "text": [
            "1\n",
            "2\n",
            "3\n",
            "1\n"
          ]
        }
      ]
    },
    {
      "cell_type": "markdown",
      "source": [
        "**Check give no is perfect or not**"
      ],
      "metadata": {
        "id": "vTnu6SbKbu-l"
      }
    },
    {
      "cell_type": "code",
      "source": [
        "a=int(input())\n",
        "b=a\n",
        "sum=0\n",
        "for i in range(1,a-1):\n",
        "  if a%i==0:\n",
        "    sum+=i\n",
        "print(sum)\n",
        "if b==sum:\n",
        "  print(\"its a perfect no\")\n",
        "else:\n",
        "  print(\"noooooooo\")"
      ],
      "metadata": {
        "colab": {
          "base_uri": "https://localhost:8080/"
        },
        "id": "NRyFdxLta33f",
        "outputId": "2838a8ea-f133-49e6-b80c-e91156be72fc"
      },
      "execution_count": 12,
      "outputs": [
        {
          "output_type": "stream",
          "name": "stdout",
          "text": [
            "6\n",
            "6\n",
            "its a perfect no\n"
          ]
        }
      ]
    },
    {
      "cell_type": "markdown",
      "source": [
        "**Find Gcd of given no with and without recrusion**\n"
      ],
      "metadata": {
        "id": "ZlSFNXuEhRF8"
      }
    },
    {
      "cell_type": "code",
      "source": [
        "def gcd(a,b):\n",
        "    if(b==0):\n",
        "        return a\n",
        "    else:\n",
        "        return gcd(b,a%b)\n",
        "a=int(input(\"Enter 1st\"))\n",
        "b=int(input(\"Enter 2nd\"))\n",
        "GCD=gcd(a,b)\n",
        "print(\"GCD is: \")\n",
        "print(GCD) "
      ],
      "metadata": {
        "colab": {
          "base_uri": "https://localhost:8080/"
        },
        "id": "hZEi2H_AhVNR",
        "outputId": "80189496-ddba-4f94-f96f-fcef1bfc5cee"
      },
      "execution_count": 13,
      "outputs": [
        {
          "output_type": "stream",
          "name": "stdout",
          "text": [
            "Enter 1st12\n",
            "Enter 2nd24\n",
            "GCD is: \n",
            "12\n"
          ]
        }
      ]
    },
    {
      "cell_type": "markdown",
      "source": [
        "**To print odd no in given range**\n"
      ],
      "metadata": {
        "id": "Yi7brJzUrxxH"
      }
    },
    {
      "cell_type": "code",
      "source": [
        "a=int(input())\n",
        "b=int(input())\n",
        "for i in range(a,b):\n",
        "  if i%2!=0:\n",
        "    print(i)"
      ],
      "metadata": {
        "id": "_ttmjW8Sr-zf"
      },
      "execution_count": null,
      "outputs": []
    },
    {
      "cell_type": "markdown",
      "source": [
        "**To print 1st and last capital**"
      ],
      "metadata": {
        "id": "7m3Cxb4IsAFG"
      }
    },
    {
      "cell_type": "code",
      "source": [
        "String = input('')\n",
        "String = result =String.title()\n",
        "result=\" \"\n",
        "for i in String.split():\n",
        "  result+=i[:-1]+i[-1].upper()+\" \"\n",
        "  print(result)"
      ],
      "metadata": {
        "colab": {
          "base_uri": "https://localhost:8080/"
        },
        "id": "1HLS_idTsciL",
        "outputId": "836af277-dd62-44c2-8b6c-508aa1535e66"
      },
      "execution_count": 15,
      "outputs": [
        {
          "output_type": "stream",
          "name": "stdout",
          "text": [
            "dfgh dfgh dfg\n",
            " DfgH \n",
            " DfgH DfgH \n",
            " DfgH DfgH DfG \n"
          ]
        }
      ]
    },
    {
      "cell_type": "markdown",
      "source": [
        "**print sum of even digits in a no**"
      ],
      "metadata": {
        "id": "E3Zwc80Ct2Cl"
      }
    },
    {
      "cell_type": "code",
      "source": [
        "a=str(input())\n",
        "sum=0\n",
        "for i in a:\n",
        "  if int(i)%2==0:\n",
        "    sum=sum+int(i)\n",
        "print(sum)"
      ],
      "metadata": {
        "colab": {
          "base_uri": "https://localhost:8080/"
        },
        "id": "LSXSGqnjt40B",
        "outputId": "ab867198-340d-423e-e07c-c7b6f35ba5b0"
      },
      "execution_count": 16,
      "outputs": [
        {
          "output_type": "stream",
          "name": "stdout",
          "text": [
            "234567\n",
            "12\n"
          ]
        }
      ]
    },
    {
      "cell_type": "markdown",
      "source": [
        "**repeat the n no for n times [1,2,2,3,3,3,4,4,4,4]**"
      ],
      "metadata": {
        "id": "tEoY2Qn9t8cV"
      }
    },
    {
      "cell_type": "code",
      "source": [
        "n=int(input())\n",
        "a=0\n",
        "for x in range(0,n):\n",
        "  if a<x:\n",
        "   print(x*x)"
      ],
      "metadata": {
        "colab": {
          "base_uri": "https://localhost:8080/"
        },
        "id": "KnjGxgZmuNWD",
        "outputId": "1639879a-9e88-4c78-c072-00042cca6644"
      },
      "execution_count": 17,
      "outputs": [
        {
          "output_type": "stream",
          "name": "stdout",
          "text": [
            "2\n",
            "1\n"
          ]
        }
      ]
    },
    {
      "cell_type": "markdown",
      "source": [
        "**Calculate the sum of squares of digits of a no**"
      ],
      "metadata": {
        "id": "RHlOBRoOuWpv"
      }
    },
    {
      "cell_type": "code",
      "source": [
        "num = int(input())\n",
        "sum = 0\n",
        "while num!=0:\n",
        "    rem = num%10\n",
        "    sqr = rem*rem\n",
        "    sum = sum+sqr\n",
        "    num = int(num/10)\n",
        "print(sum)"
      ],
      "metadata": {
        "colab": {
          "base_uri": "https://localhost:8080/"
        },
        "id": "vyuYxAAluYMc",
        "outputId": "c2145748-aeb4-46c3-ac52-47cfbb991cb7"
      },
      "execution_count": 19,
      "outputs": [
        {
          "output_type": "stream",
          "name": "stdout",
          "text": [
            "678909\n",
            "311\n"
          ]
        }
      ]
    },
    {
      "cell_type": "markdown",
      "source": [
        "**rgiven two integers A and B .if a<b print all no in ascending or else in descending**"
      ],
      "metadata": {
        "id": "WqLqPG1guezq"
      }
    },
    {
      "cell_type": "code",
      "source": [
        "a=int(input())\n",
        "b=int(input())\n",
        "if a<b:\n",
        "  for i in range(a,b):\n",
        "    print(i)\n",
        "else:\n",
        "  for i in range(a,b,-1):\n",
        "    print(i)    "
      ],
      "metadata": {
        "colab": {
          "base_uri": "https://localhost:8080/"
        },
        "id": "H9jo-dw2umfc",
        "outputId": "f9c27284-bff1-4745-af86-52ac43357faa"
      },
      "execution_count": 20,
      "outputs": [
        {
          "output_type": "stream",
          "name": "stdout",
          "text": [
            "6 \n",
            "7\n",
            "6\n"
          ]
        }
      ]
    },
    {
      "cell_type": "markdown",
      "source": [
        "max of 3 no"
      ],
      "metadata": {
        "id": "Cs2JWhkSuyNt"
      }
    },
    {
      "cell_type": "code",
      "source": [
        "a=int(input())\n",
        "b=int(input())\n",
        "c=int(input())\n",
        "if (a >= b) and (a >= c):\n",
        "   largest = a\n",
        "elif (b >= a) and (b >= c):\n",
        "   largest = b\n",
        "else:\n",
        "   largest = c\n",
        "\n",
        "print(largest)"
      ],
      "metadata": {
        "colab": {
          "base_uri": "https://localhost:8080/"
        },
        "id": "cekA3U1Hu03G",
        "outputId": "c91e7826-a76e-4c00-e38f-62708d8b36e8"
      },
      "execution_count": 21,
      "outputs": [
        {
          "output_type": "stream",
          "name": "stdout",
          "text": [
            "55\n",
            "78\n",
            "09\n",
            "78\n"
          ]
        }
      ]
    },
    {
      "cell_type": "markdown",
      "source": [
        "**write a program to count no of strings where the string length is 2 or more and 1st and last is same**"
      ],
      "metadata": {
        "id": "6D04kuROu6Y7"
      }
    },
    {
      "cell_type": "code",
      "source": [
        "def match(words):\n",
        "  d=0\n",
        "  for x in words:\n",
        "    if len(word) > 1 and x[0] == x[-1]:\n",
        "      d+=1\n",
        "  return d\n",
        "  print(match(['abc','xyz','aba','1221']))"
      ],
      "metadata": {
        "id": "cAZswysCu9It"
      },
      "execution_count": 22,
      "outputs": []
    },
    {
      "cell_type": "markdown",
      "source": [
        "**days as input,no of round trips ,cal the tot distance if tot dis is <40000m print need to work hard**"
      ],
      "metadata": {
        "id": "heubIepPvDdA"
      }
    },
    {
      "cell_type": "code",
      "source": [
        "days=int(input())\n",
        "no=int(input(\"enter no of meters\"))\n",
        "dis=days*no\n",
        "if dis<40000:\n",
        "  print(\"need to work more\")\n",
        "else:\n",
        "  print(\"well done\")  "
      ],
      "metadata": {
        "colab": {
          "base_uri": "https://localhost:8080/"
        },
        "id": "G6b9xQD5vFNh",
        "outputId": "11c69adb-8f79-41bf-fbd5-daac820786e6"
      },
      "execution_count": 23,
      "outputs": [
        {
          "output_type": "stream",
          "name": "stdout",
          "text": [
            "100\n",
            "enter no of meters300000\n",
            "well done\n"
          ]
        }
      ]
    },
    {
      "cell_type": "markdown",
      "source": [
        "**given a list of students names i l and a charcter and display the names whose name are given in capital.**"
      ],
      "metadata": {
        "id": "g00VukFgvLjZ"
      }
    },
    {
      "cell_type": "code",
      "source": [
        "test_str =['helo','Hello']\n",
        "print(\"The original string is : \" + str(test_str))\n",
        "for ele in test_str:\n",
        "   if ele.isupper():\n",
        "     print(ele)"
      ],
      "metadata": {
        "colab": {
          "base_uri": "https://localhost:8080/"
        },
        "id": "9JjByFuNvM2V",
        "outputId": "168143b8-efec-46a5-eeac-04ddd413ee79"
      },
      "execution_count": 24,
      "outputs": [
        {
          "output_type": "stream",
          "name": "stdout",
          "text": [
            "The original string is : ['hello', 'Hello']\n"
          ]
        }
      ]
    },
    {
      "cell_type": "markdown",
      "source": [
        "**given a list of city names whose len is greater than given len ['Delhi','Mumbai','Goa']**"
      ],
      "metadata": {
        "id": "N1o-Iiq6vTHz"
      }
    },
    {
      "cell_type": "code",
      "source": [
        "list=['delhi','Mumbai','Goa']\n",
        "l=int(input())\n",
        "for x in list:\n",
        "  if len(x)>l:\n",
        "    print(x)"
      ],
      "metadata": {
        "colab": {
          "base_uri": "https://localhost:8080/"
        },
        "id": "poVp4FPIvXLL",
        "outputId": "63f90751-df94-46fc-b29a-3b5adb19ba6c"
      },
      "execution_count": 25,
      "outputs": [
        {
          "output_type": "stream",
          "name": "stdout",
          "text": [
            "3\n",
            "delhi\n",
            "Mumbai\n"
          ]
        }
      ]
    }
  ]
}