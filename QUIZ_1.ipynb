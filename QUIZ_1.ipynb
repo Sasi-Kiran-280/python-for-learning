{
  "nbformat": 4,
  "nbformat_minor": 0,
  "metadata": {
    "colab": {
      "name": "QUIZ 1.ipynb",
      "provenance": [],
      "collapsed_sections": [],
      "authorship_tag": "ABX9TyNJxwq8OsaO8L1rDoAzCZ00",
      "include_colab_link": true
    },
    "kernelspec": {
      "name": "python3",
      "display_name": "Python 3"
    },
    "language_info": {
      "name": "python"
    }
  },
  "cells": [
    {
      "cell_type": "markdown",
      "metadata": {
        "id": "view-in-github",
        "colab_type": "text"
      },
      "source": [
        "<a href=\"https://colab.research.google.com/github/Sasi-Kiran-280/python-for-learning/blob/module-1/QUIZ_1.ipynb\" target=\"_parent\"><img src=\"https://colab.research.google.com/assets/colab-badge.svg\" alt=\"Open In Colab\"/></a>"
      ]
    },
    {
      "cell_type": "code",
      "execution_count": null,
      "metadata": {
        "id": "OYp7HC67fxvs"
      },
      "outputs": [],
      "source": [
        "##Write a program of swapping of two numbers "
      ]
    },
    {
      "cell_type": "code",
      "source": [
        "a=2\n",
        "b=3\n",
        "c=a\n",
        "a=b\n",
        "b=c\n",
        "print(\"Result =\",a,b)"
      ],
      "metadata": {
        "colab": {
          "base_uri": "https://localhost:8080/"
        },
        "id": "7UO96wOef7PG",
        "outputId": "70e68bec-7308-4823-8364-43c08ebda9ce"
      },
      "execution_count": 1,
      "outputs": [
        {
          "output_type": "stream",
          "name": "stdout",
          "text": [
            "Result = 3 2\n"
          ]
        }
      ]
    },
    {
      "cell_type": "code",
      "source": [
        "##Find out the square root of the number"
      ],
      "metadata": {
        "id": "hlx2X5TbgEe2"
      },
      "execution_count": null,
      "outputs": []
    },
    {
      "cell_type": "code",
      "source": [
        "a=4\n",
        "sqr=(a)**1/2\n",
        "print(sqr)"
      ],
      "metadata": {
        "id": "7tfE3QTEgElh"
      },
      "execution_count": null,
      "outputs": []
    },
    {
      "cell_type": "code",
      "source": [
        "##Find out the Largest of three numbers from the give input"
      ],
      "metadata": {
        "id": "HSIHOEbegK-O"
      },
      "execution_count": null,
      "outputs": []
    },
    {
      "cell_type": "code",
      "source": [
        "a=5\n",
        "b=3\n",
        "c=2\n",
        "if a>b and a>c :\n",
        "    print(a)\n",
        "if b>a and b>c :\n",
        "    print(b)\n",
        "if c>b and c>a :\n",
        "    print(c)\n",
        "    \n"
      ],
      "metadata": {
        "id": "ZnHSjIcVgLB2"
      },
      "execution_count": null,
      "outputs": []
    },
    {
      "cell_type": "code",
      "source": [
        "##Add Black color to the given list in the 4th place.\n",
        "\n",
        " ##Rainbow = ['Red', 'Orange', 'Yellow', 'Green'] "
      ],
      "metadata": {
        "id": "kh3xgQ7HgLHW"
      },
      "execution_count": null,
      "outputs": []
    },
    {
      "cell_type": "code",
      "source": [
        "Rainbow=['Red','Orange','Yellow','Green']\n",
        "Rainbow[3]='Black'\n",
        "Rainbow.append('Green')\n",
        "print(Rainbow)"
      ],
      "metadata": {
        "colab": {
          "base_uri": "https://localhost:8080/"
        },
        "id": "Hm2e_Hg8gVkH",
        "outputId": "a8014071-3cfa-46f6-9e44-a501898217ed"
      },
      "execution_count": 8,
      "outputs": [
        {
          "output_type": "stream",
          "name": "stdout",
          "text": [
            "['Red', 'Orange', 'Yellow', 'Black', 'Green']\n"
          ]
        }
      ]
    },
    {
      "cell_type": "code",
      "source": [
        "Rainbow=['Red','Orange','Yellow','Green']\n",
        "Rainbow.insert(3,'Black')\n",
        "print(Rainbow)"
      ],
      "metadata": {
        "colab": {
          "base_uri": "https://localhost:8080/"
        },
        "id": "KxMsm8OZjYhK",
        "outputId": "f2fa5068-d1de-41a4-84c0-6524e7f67c63"
      },
      "execution_count": 16,
      "outputs": [
        {
          "output_type": "stream",
          "name": "stdout",
          "text": [
            "['Red', 'Orange', 'Yellow', 'Black', 'Green']\n"
          ]
        }
      ]
    }
  ]
}