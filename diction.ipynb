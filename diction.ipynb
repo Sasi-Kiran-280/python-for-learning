{
  "nbformat": 4,
  "nbformat_minor": 0,
  "metadata": {
    "colab": {
      "name": " diction.ipynb",
      "provenance": [],
      "collapsed_sections": [],
      "authorship_tag": "ABX9TyNaSLVf5tag/j1c9lIcxfQq",
      "include_colab_link": true
    },
    "kernelspec": {
      "name": "python3",
      "display_name": "Python 3"
    },
    "language_info": {
      "name": "python"
    }
  },
  "cells": [
    {
      "cell_type": "markdown",
      "metadata": {
        "id": "view-in-github",
        "colab_type": "text"
      },
      "source": [
        "<a href=\"https://colab.research.google.com/github/Sasi-Kiran-280/python-for-learning/blob/main/diction.ipynb\" target=\"_parent\"><img src=\"https://colab.research.google.com/assets/colab-badge.svg\" alt=\"Open In Colab\"/></a>"
      ]
    },
    {
      "cell_type": "code",
      "execution_count": 1,
      "metadata": {
        "colab": {
          "base_uri": "https://localhost:8080/"
        },
        "id": "W960BBoEha8N",
        "outputId": "6bb48d46-a568-4fa6-81fa-3a7bdf1c3ca9"
      },
      "outputs": [
        {
          "output_type": "stream",
          "name": "stdout",
          "text": [
            "Ford\n"
          ]
        }
      ],
      "source": [
        "thisdict = {\n",
        "  \"brand\": \"Ford\",\n",
        "  \"model\": \"Mustang\",\n",
        "  \"year\": 1964\n",
        "}\n",
        "print(thisdict[\"brand\"])"
      ]
    },
    {
      "cell_type": "code",
      "source": [
        "myinfo={\n",
        "    \"name\":\"sasi\",\n",
        "    \"gen\":\"male\",\n",
        "    \"birth\":\"2004\",\n",
        "    \"cgpa\":\"10\",\n",
        "    \"atten\":\"100\",\n",
        "}\n",
        "print(myinfo['gen'])\n",
        "print(myinfo.get('cgpa'))\n",
        "print(len(myinfo))\n",
        "print(type(myinfo))"
      ],
      "metadata": {
        "colab": {
          "base_uri": "https://localhost:8080/"
        },
        "id": "l3J_Yyr5hnbQ",
        "outputId": "af65b310-b34e-4718-c005-2d07ac9d91b1"
      },
      "execution_count": 16,
      "outputs": [
        {
          "output_type": "stream",
          "name": "stdout",
          "text": [
            "male\n",
            "10\n",
            "5\n",
            "<class 'dict'>\n"
          ]
        }
      ]
    },
    {
      "cell_type": "code",
      "source": [
        ""
      ],
      "metadata": {
        "id": "ZH8l3oDQjZvy"
      },
      "execution_count": null,
      "outputs": []
    }
  ]
}